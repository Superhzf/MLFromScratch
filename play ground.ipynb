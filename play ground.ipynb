{
 "cells": [
  {
   "cell_type": "code",
   "execution_count": 1,
   "metadata": {},
   "outputs": [],
   "source": [
    "base = np.array([[1,1],[1,2],[4,1],[6,4]])\n",
    "key = np.array([2,3])\n",
    "def nearest_number(base,key):\n",
    "    key_x,key_y = key\n",
    "    distance = np.array([(key_x - base_x)**2 + (key_y-base_y)**2 for base_x, base_y in base])\n",
    "    return np.argmax(distance),distance\n",
    "def calculate_e(k):\n",
    "    base = 1+1/k\n",
    "    e = base\n",
    "    for i in range(k):\n",
    "        e = e*base\n",
    "    return e\n",
    "def calculate_e2(base, k):\n",
    "    if k == 0:\n",
    "        return 1\n",
    "    elif k == 1:\n",
    "        return base\n",
    "    elif k%2 == 0:\n",
    "        return calculate_e2(base*base,k/2)\n",
    "    elif k%2 == 1:\n",
    "        return base*calculate_e2(base*base,(k-1)/2)\n",
    "def nearest_neighbor(k,array,target):\n",
    "    x_target = target[0]\n",
    "    y_target = target[1]\n",
    "    distance_pop_dict={}\n",
    "    sum_pop = 0\n",
    "    for x,y,pop in array:\n",
    "        distance = (x-x_target)**2+(y-y_target)**2\n",
    "        distance_pop_dict[distance] = pop\n",
    "    for key in sorted(distance_pop_dict)[:k]:\n",
    "        sum_pop = sum_pop + distance_pop_dict[key]\n",
    "    return sum_pop\n",
    "def collect_cards():\n",
    "    count = 0\n",
    "    cards = list(range(160))\n",
    "    collection = set()\n",
    "    while len(collection) < 160:\n",
    "        pack = np.random.choice(cards,size = 8,replace=False)\n",
    "        count+=1\n",
    "        collection = collection.union(set(pack))\n",
    "    return count"
   ]
  },
  {
   "cell_type": "code",
   "execution_count": 2,
   "metadata": {},
   "outputs": [],
   "source": [
    "import numpy as np\n",
    "def collect_cards():\n",
    "    count = 0\n",
    "    cards = list(range(160))\n",
    "    collection = set()\n",
    "    while len(collection) < 160:\n",
    "        pack = np.random.choice(cards,size = 8,replace=False)\n",
    "        count+=1\n",
    "        collection = collection.union(set(pack))\n",
    "    return count"
   ]
  },
  {
   "cell_type": "code",
   "execution_count": 4,
   "metadata": {},
   "outputs": [],
   "source": [
    "count_list = []\n",
    "for n in range(1000):\n",
    "    count_list.append(collect_cards())"
   ]
  },
  {
   "cell_type": "code",
   "execution_count": 6,
   "metadata": {},
   "outputs": [
    {
     "data": {
      "text/plain": [
       "110.419"
      ]
     },
     "execution_count": 6,
     "metadata": {},
     "output_type": "execute_result"
    }
   ],
   "source": [
    "np.mean(count_list)"
   ]
  },
  {
   "cell_type": "code",
   "execution_count": 13,
   "metadata": {},
   "outputs": [],
   "source": [
    "rand_int = np.random.randint(0,2)"
   ]
  },
  {
   "cell_type": "code",
   "execution_count": 15,
   "metadata": {},
   "outputs": [
    {
     "data": {
      "text/plain": [
       "1"
      ]
     },
     "execution_count": 15,
     "metadata": {},
     "output_type": "execute_result"
    }
   ],
   "source": [
    "rand_int"
   ]
  },
  {
   "cell_type": "code",
   "execution_count": 13,
   "metadata": {},
   "outputs": [],
   "source": [
    "def nearest_neighbor(k,array,target):\n",
    "    x_target = target[0]\n",
    "    y_target = target[1]\n",
    "    distance_pop_dict={}\n",
    "    sum_pop = 0\n",
    "    for x,y,pop in array:\n",
    "        distance = (x-x_target)**2+(y-y_target)**2\n",
    "        distance_pop_dict[distance] = pop\n",
    "    for key in sorted(distance_pop_dict)[:k]:\n",
    "        sum_pop = sum_pop + distance_pop_dict[key]\n",
    "    return sum_pop"
   ]
  },
  {
   "cell_type": "code",
   "execution_count": 14,
   "metadata": {},
   "outputs": [
    {
     "data": {
      "text/plain": [
       "6"
      ]
     },
     "execution_count": 14,
     "metadata": {},
     "output_type": "execute_result"
    }
   ],
   "source": [
    "array = [[1,2,5],[2,3,6],[3,5,4]]\n",
    "nearest_neighbor(1,array,[2,4])"
   ]
  },
  {
   "cell_type": "code",
   "execution_count": 12,
   "metadata": {},
   "outputs": [
    {
     "data": {
      "text/plain": [
       "[1, 2, 5]"
      ]
     },
     "execution_count": 12,
     "metadata": {},
     "output_type": "execute_result"
    }
   ],
   "source": [
    "sorted(nearest_neighbor(1,array,[2,4]))"
   ]
  },
  {
   "cell_type": "code",
   "execution_count": 27,
   "metadata": {},
   "outputs": [],
   "source": [
    "def calculate_e(k):\n",
    "    base = 1+1/k\n",
    "    e = base\n",
    "    for i in range(k):\n",
    "        e = e*base\n",
    "    return e\n",
    "\n",
    "\n",
    "def calculate_e2(base, k):\n",
    "    if k == 0:\n",
    "        return 1\n",
    "    elif k == 1:\n",
    "        return base\n",
    "    elif k%2 == 0:\n",
    "        return calculate_e2(base*base,k/2)\n",
    "    elif k%2 == 1:\n",
    "        return base*calculate_e2(base*base,(k-1)/2)"
   ]
  },
  {
   "cell_type": "code",
   "execution_count": 32,
   "metadata": {},
   "outputs": [
    {
     "name": "stdout",
     "output_type": "stream",
     "text": [
      "17.8 µs ± 141 ns per loop (mean ± std. dev. of 7 runs, 100000 loops each)\n"
     ]
    }
   ],
   "source": [
    "%timeit calculate_e(1000)"
   ]
  },
  {
   "cell_type": "code",
   "execution_count": 33,
   "metadata": {},
   "outputs": [
    {
     "name": "stdout",
     "output_type": "stream",
     "text": [
      "1.39 µs ± 7.91 ns per loop (mean ± std. dev. of 7 runs, 1000000 loops each)\n"
     ]
    }
   ],
   "source": [
    "base = base = 1+1/1000\n",
    "%timeit calculate_e2(base,1000)"
   ]
  },
  {
   "cell_type": "code",
   "execution_count": 1,
   "metadata": {},
   "outputs": [],
   "source": [
    "%matplotlib inline\n",
    "\n",
    "import matplotlib\n",
    "import numpy as np\n",
    "import matplotlib.pyplot as plt"
   ]
  },
  {
   "cell_type": "code",
   "execution_count": 2,
   "metadata": {},
   "outputs": [],
   "source": [
    "def loss(k):\n",
    "    people = np.arange(0.0, 1.0, 0.01)\n",
    "    candidate_list = np.random.uniform(size=k)\n",
    "    loss_list = [np.sum(np.square(candidate - people)) for candidate in candidate_list]\n",
    "    loss_list = np.array(loss_list)\n",
    "    assert len(loss_list) == len(candidate_list)\n",
    "    return candidate_list,loss_list"
   ]
  },
  {
   "cell_type": "code",
   "execution_count": 3,
   "metadata": {},
   "outputs": [],
   "source": [
    "candidate_list,loss_list= loss(1000)"
   ]
  },
  {
   "cell_type": "code",
   "execution_count": 5,
   "metadata": {},
   "outputs": [
    {
     "data": {
      "text/plain": [
       "Text(0, 0.5, 'loss')"
      ]
     },
     "execution_count": 5,
     "metadata": {},
     "output_type": "execute_result"
    },
    {
     "data": {
      "image/png": "[encoded data removed]",
      "text/plain": [
       "<Figure size 432x288 with 1 Axes>"
      ]
     },
     "metadata": {
      "needs_background": "light"
     },
     "output_type": "display_data"
    }
   ],
   "source": [
    "plt.scatter(candidate_list,loss_list)\n",
    "plt.ylabel('loss')"
   ]
  },
  {
   "cell_type": "code",
   "execution_count": 6,
   "metadata": {},
   "outputs": [],
   "source": [
    "import numpy as np"
   ]
  },
  {
   "cell_type": "code",
   "execution_count": 9,
   "metadata": {},
   "outputs": [],
   "source": [
    "base = np.array([[1,1],[1,2],[4,1],[6,4]])\n",
    "key = np.array([2,3])\n",
    "def nearest_number(base,key):\n",
    "    key_x,key_y = key\n",
    "    distance = np.array([(key_x - base_x)**2 + (key_y-base_y)**2 for base_x, base_y in base])\n",
    "    return np.argmax(distance),distance\n",
    "\n",
    "def calculate_e(k):\n",
    "    base = 1+1/k\n",
    "    e = base\n",
    "    for i in range(k):\n",
    "        e = e*base\n",
    "    return e\n",
    "\n",
    "\n",
    "def calculate_e2(base, k):\n",
    "    if k == 0:\n",
    "        return 1\n",
    "    elif k == 1:\n",
    "        return base\n",
    "    elif k%2 == 0:\n",
    "        return calculate_e2(base*base,k/2)\n",
    "    elif k%2 == 1:\n",
    "        return base*calculate_e2(base*base,(k-1)/2)\n",
    "    \n",
    "def nearest_neighbor(k,array,target):\n",
    "    x_target = target[0]\n",
    "    y_target = target[1]\n",
    "    distance_pop_dict={}\n",
    "    sum_pop = 0\n",
    "    for x,y,pop in array:\n",
    "        distance = (x-x_target)**2+(y-y_target)**2\n",
    "        distance_pop_dict[distance] = pop\n",
    "    for key in sorted(distance_pop_dict)[:k]:\n",
    "        sum_pop = sum_pop + distance_pop_dict[key]\n",
    "    return sum_pop\n",
    "\n",
    "\n",
    "def collect_cards():\n",
    "    count = 0\n",
    "    cards = list(range(160))\n",
    "    collection = set()\n",
    "    while len(collection) < 160:\n",
    "        pack = np.random.choice(cards,size = 8,replace=False)\n",
    "        count+=1\n",
    "        collection = collection.union(set(pack))\n",
    "    return count"
   ]
  },
  {
   "cell_type": "code",
   "execution_count": 10,
   "metadata": {},
   "outputs": [
    {
     "data": {
      "text/plain": [
       "(3, array([ 5,  2,  8, 17]))"
      ]
     },
     "execution_count": 10,
     "metadata": {},
     "output_type": "execute_result"
    }
   ],
   "source": [
    "nearest_number(base,key)"
   ]
  },
  {
   "cell_type": "code",
   "execution_count": 1,
   "metadata": {},
   "outputs": [
    {
     "name": "stdout",
     "output_type": "stream",
     "text": [
      "My __name__ is: playaround\n",
      "I'm imported!\n"
     ]
    }
   ],
   "source": [
    "import playaround"
   ]
  },
  {
   "cell_type": "code",
   "execution_count": 17,
   "metadata": {},
   "outputs": [],
   "source": [
    "def count_substring(string, sub_string):\n",
    "    len_sub = len(sub_string)\n",
    "    len_str = len(string)\n",
    "    count = 0\n",
    "    for i in range(len(string)):\n",
    "        start = i\n",
    "        end = i + len_sub\n",
    "        if end > len_str:\n",
    "            return count \n",
    "        elif string[start:end] == sub_string:\n",
    "            count +=1\n",
    "    return count"
   ]
  },
  {
   "cell_type": "code",
   "execution_count": 18,
   "metadata": {},
   "outputs": [
    {
     "data": {
      "text/plain": [
       "2"
      ]
     },
     "execution_count": 18,
     "metadata": {},
     "output_type": "execute_result"
    }
   ],
   "source": [
    "count_substring('ABCDCDC','CDC')"
   ]
  },
  {
   "cell_type": "code",
   "execution_count": 1,
   "metadata": {},
   "outputs": [
    {
     "data": {
      "text/plain": [
       "'----------------'"
      ]
     },
     "execution_count": 1,
     "metadata": {},
     "output_type": "execute_result"
    }
   ],
   "source": [
    "'-'*16"
   ]
  },
  {
   "cell_type": "code",
   "execution_count": 2,
   "metadata": {},
   "outputs": [
    {
     "name": "stdout",
     "output_type": "stream",
     "text": [
      "5\n",
      "--------e--------\n",
      "------e-d-e------\n",
      "----e-d-c-d-e----\n",
      "--e-d-c-b-c-d-e--\n",
      "e-d-c-b-a-b-c-d-e\n",
      "--e-d-c-b-c-d-e--\n",
      "----e-d-c-d-e----\n",
      "------e-d-e------\n",
      "--------e--------\n"
     ]
    }
   ],
   "source": [
    "import string\n",
    "alpha = string.ascii_lowercase\n",
    "\n",
    "n = int(input())\n",
    "L = []\n",
    "for i in range(n):\n",
    "    s = \"-\".join(alpha[i:n])\n",
    "    L.append((s[::-1]+s[1:]).center(4*n-3, \"-\"))\n",
    "print('\\n'.join(L[:0:-1]+L))"
   ]
  },
  {
   "cell_type": "code",
   "execution_count": 3,
   "metadata": {},
   "outputs": [
    {
     "data": {
      "text/plain": [
       "['e-d-c-b-a-b-c-d-e',\n",
       " '--e-d-c-b-c-d-e--',\n",
       " '----e-d-c-d-e----',\n",
       " '------e-d-e------',\n",
       " '--------e--------']"
      ]
     },
     "execution_count": 3,
     "metadata": {},
     "output_type": "execute_result"
    }
   ],
   "source": [
    "L"
   ]
  },
  {
   "cell_type": "code",
   "execution_count": 8,
   "metadata": {},
   "outputs": [
    {
     "data": {
      "text/plain": [
       "['--------e--------',\n",
       " '------e-d-e------',\n",
       " '----e-d-c-d-e----',\n",
       " '--e-d-c-b-c-d-e--']"
      ]
     },
     "execution_count": 8,
     "metadata": {},
     "output_type": "execute_result"
    }
   ],
   "source": [
    "L[:0:-1]"
   ]
  },
  {
   "cell_type": "code",
   "execution_count": 13,
   "metadata": {},
   "outputs": [
    {
     "data": {
      "text/plain": [
       "['--e-d-c-b-c-d-e--',\n",
       " '----e-d-c-d-e----',\n",
       " '------e-d-e------',\n",
       " '--------e--------']"
      ]
     },
     "execution_count": 13,
     "metadata": {},
     "output_type": "execute_result"
    }
   ],
   "source": [
    "L[::-]"
   ]
  },
  {
   "cell_type": "code",
   "execution_count": 16,
   "metadata": {},
   "outputs": [],
   "source": [
    "def print_rangoli(size):\n",
    "    # your code goes here\n",
    "    alpha_list = list(map(chr, range(97, 123)))\n",
    "    L = []\n",
    "    for i in range(size):\n",
    "        line_char_list = '-'.join(alpha_list[i:size])\n",
    "        L.append(line_char_list[::-1] + line_char_list[1:])\n",
    "    return L"
   ]
  },
  {
   "cell_type": "code",
   "execution_count": 17,
   "metadata": {},
   "outputs": [
    {
     "data": {
      "text/plain": [
       "['e-d-c-b-a-b-c-d-e', 'e-d-c-b-c-d-e', 'e-d-c-d-e', 'e-d-e', 'e']"
      ]
     },
     "execution_count": 17,
     "metadata": {},
     "output_type": "execute_result"
    }
   ],
   "source": [
    "print_rangoli(5)"
   ]
  },
  {
   "cell_type": "code",
   "execution_count": 19,
   "metadata": {},
   "outputs": [
    {
     "data": {
      "text/plain": [
       "5"
      ]
     },
     "execution_count": 19,
     "metadata": {},
     "output_type": "execute_result"
    }
   ],
   "source": [
    "len(\"{0:b}\".format(17))"
   ]
  },
  {
   "cell_type": "code",
   "execution_count": 23,
   "metadata": {},
   "outputs": [
    {
     "data": {
      "text/plain": [
       "'1'"
      ]
     },
     "execution_count": 23,
     "metadata": {},
     "output_type": "execute_result"
    }
   ],
   "source": [
    "\"{0:b}\".format(1)"
   ]
  },
  {
   "cell_type": "code",
   "execution_count": 24,
   "metadata": {},
   "outputs": [
    {
     "data": {
      "text/plain": [
       "'101'"
      ]
     },
     "execution_count": 24,
     "metadata": {},
     "output_type": "execute_result"
    }
   ],
   "source": [
    "\"{1:b}\".format(1,5)"
   ]
  },
  {
   "cell_type": "code",
   "execution_count": 25,
   "metadata": {},
   "outputs": [
    {
     "data": {
      "text/plain": [
       "'good'"
      ]
     },
     "execution_count": 25,
     "metadata": {},
     "output_type": "execute_result"
    }
   ],
   "source": [
    "'' + 'good'"
   ]
  },
  {
   "cell_type": "code",
   "execution_count": 27,
   "metadata": {},
   "outputs": [
    {
     "data": {
      "text/plain": [
       "'G'"
      ]
     },
     "execution_count": 27,
     "metadata": {},
     "output_type": "execute_result"
    }
   ],
   "source": [
    "list('good')[0].upper()"
   ]
  },
  {
   "cell_type": "code",
   "execution_count": 47,
   "metadata": {},
   "outputs": [],
   "source": [
    "import string\n",
    "def solve(s):\n",
    "    print (string.capwords(s,' '))"
   ]
  },
  {
   "cell_type": "code",
   "execution_count": 48,
   "metadata": {},
   "outputs": [
    {
     "name": "stdout",
     "output_type": "stream",
     "text": [
      "Hello   World  Lol\n"
     ]
    }
   ],
   "source": [
    "solve('hello   world  lol')"
   ]
  },
  {
   "cell_type": "code",
   "execution_count": 50,
   "metadata": {},
   "outputs": [],
   "source": [
    "a = ['g']*3"
   ]
  },
  {
   "cell_type": "code",
   "execution_count": 52,
   "metadata": {},
   "outputs": [
    {
     "ename": "TypeError",
     "evalue": "list indices must be integers or slices, not list",
     "output_type": "error",
     "traceback": [
      "\u001b[0;31m---------------------------------------------------------------------------\u001b[0m",
      "\u001b[0;31mTypeError\u001b[0m                                 Traceback (most recent call last)",
      "\u001b[0;32m<ipython-input-52-1f8858749c25>\u001b[0m in \u001b[0;36m<module>\u001b[0;34m\u001b[0m\n\u001b[0;32m----> 1\u001b[0;31m \u001b[0ma\u001b[0m\u001b[0;34m[\u001b[0m\u001b[0;34m[\u001b[0m\u001b[0;32mTrue\u001b[0m\u001b[0;34m,\u001b[0m\u001b[0;32mTrue\u001b[0m\u001b[0;34m,\u001b[0m\u001b[0;32mFalse\u001b[0m\u001b[0;34m]\u001b[0m\u001b[0;34m]\u001b[0m\u001b[0;34m\u001b[0m\u001b[0;34m\u001b[0m\u001b[0m\n\u001b[0m",
      "\u001b[0;31mTypeError\u001b[0m: list indices must be integers or slices, not list"
     ]
    }
   ],
   "source": [
    "a[[True,True,False]]"
   ]
  },
  {
   "cell_type": "code",
   "execution_count": null,
   "metadata": {},
   "outputs": [],
   "source": []
  }
 ],
 "metadata": {
  "kernelspec": {
   "display_name": "Python 3",
   "language": "python",
   "name": "python3"
  },
  "language_info": {
   "codemirror_mode": {
    "name": "ipython",
    "version": 3
   },
   "file_extension": ".py",
   "mimetype": "text/x-python",
   "name": "python",
   "nbconvert_exporter": "python",
   "pygments_lexer": "ipython3",
   "version": "3.7.3"
  }
 },
 "nbformat": 4,
 "nbformat_minor": 2
}
