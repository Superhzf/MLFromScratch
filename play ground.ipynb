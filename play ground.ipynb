{
 "cells": [
  {
   "cell_type": "code",
   "execution_count": 1,
   "metadata": {},
   "outputs": [
    {
     "name": "stdout",
     "output_type": "stream",
     "text": [
      "0.08794135717666299\n"
     ]
    }
   ],
   "source": [
    "import numpy as np\n",
    "from sklearn.datasets import load_breast_cancer\n",
    "\n",
    "\n",
    "def sigmoid(z):\n",
    "    a = 1/(1+np.exp(-z))\n",
    "    return a\n",
    "\n",
    "\n",
    "def logloss(y_true,y_hat):\n",
    "    loss = np.mean(-1*(y_true*np.log(y_hat+0.0001)+(1-y_true)*np.log(1-y_hat+0.0001)))\n",
    "    return loss\n",
    "\n",
    "\n",
    "class LogisticRegression:\n",
    "    def __init__(self):\n",
    "        self.W = None\n",
    "        self.b = None\n",
    "        self.loss = []\n",
    "        self.training_loss = None\n",
    "\n",
    "    def fit(self, X, Y, alpha, round, normalize = False):\n",
    "        # n features, m samples\n",
    "        n, m = X.shape\n",
    "        self.b = np.random.rand(1,1)\n",
    "        self.W = np.random.rand(n,1)\n",
    "        if normalize:\n",
    "            mean = np.mean(X,axis=1)\n",
    "            std = np.std(X,axis=1)\n",
    "            for field in range(n):\n",
    "                X[field] = (X[field] - mean[field])/std[field]\n",
    "        for i in range(round):\n",
    "            Z = np.matmul(np.transpose(self.W),X)+self.b\n",
    "            A = sigmoid(Z)\n",
    "            dZ = A-Y\n",
    "            dW = np.matmul(X,np.transpose(dZ))/m\n",
    "            db = np.sum(dZ)/m\n",
    "            self.W = self.W - dW*alpha\n",
    "            self.b = self.b - db*alpha\n",
    "            round_n_loss = logloss(Y, A)\n",
    "            self.loss.append(round_n_loss)\n",
    "        self.training_loss = round_n_loss\n",
    "\n",
    "data = load_breast_cancer()\n",
    "X = np.transpose(data['data'])\n",
    "Y = np.reshape(data['target'],(1,-1))\n",
    "\n",
    "lr = LogisticRegression()\n",
    "lr.fit(X,Y,0.01,2000,normalize=True)\n",
    "\n",
    "print (lr.training_loss)"
   ]
  },
  {
   "cell_type": "code",
   "execution_count": 1,
   "metadata": {},
   "outputs": [
    {
     "name": "stderr",
     "output_type": "stream",
     "text": [
      "/usr/local/lib/python3.7/site-packages/sklearn/linear_model/logistic.py:432: FutureWarning: Default solver will be changed to 'lbfgs' in 0.22. Specify a solver to silence this warning.\n",
      "  FutureWarning)\n"
     ]
    }
   ],
   "source": [
    "from sklearn.datasets import load_breast_cancer\n",
    "from sklearn.linear_model import LogisticRegression\n",
    "\n",
    "X, y = load_breast_cancer(return_X_y=True)\n",
    "clf = LogisticRegression().fit(X, y)\n",
    "pred_sklearn = clf.predict_proba(X)"
   ]
  },
  {
   "cell_type": "code",
   "execution_count": 8,
   "metadata": {},
   "outputs": [
    {
     "data": {
      "text/plain": [
       "0.09234737306912336"
      ]
     },
     "execution_count": 8,
     "metadata": {},
     "output_type": "execute_result"
    }
   ],
   "source": [
    "logloss(y,pred_sklearn[:,1])"
   ]
  },
  {
   "cell_type": "code",
   "execution_count": null,
   "metadata": {},
   "outputs": [],
   "source": []
  },
  {
   "cell_type": "code",
   "execution_count": 45,
   "metadata": {},
   "outputs": [],
   "source": [
    "# from sklearn.datasets import load_breast_cancer\n",
    "# import statsmodels.discrete.discrete_model as sm\n",
    "\n",
    "# X, y = load_breast_cancer(return_X_y=True)\n",
    "# logit = sm.Logit(y,X).fit()"
   ]
  },
  {
   "cell_type": "code",
   "execution_count": null,
   "metadata": {},
   "outputs": [],
   "source": []
  },
  {
   "cell_type": "code",
   "execution_count": 1,
   "metadata": {},
   "outputs": [],
   "source": [
    "from sklearn.datasets import load_breast_cancer\n",
    "import pandas as pd\n",
    "# import statsmodels.genmod.generalized_linear_model as sm\n",
    "import statsmodels.formula.api as smf\n",
    "import statsmodels.api as sm\n",
    "x, y = load_breast_cancer(return_X_y=True)\n",
    "data = pd.DataFrame(columns = ['Response','Day','Class'])\n",
    "data['Response'] = y\n",
    "data['Day'] = x[:,0]\n",
    "data['Class'] = x[:,1]\n",
    "\n",
    "# logit = sm.GLM(y,X).fit()"
   ]
  },
  {
   "cell_type": "code",
   "execution_count": 2,
   "metadata": {},
   "outputs": [],
   "source": [
    "formula = 'Response~Day+Class'\n",
    "model = smf.glm(formula,data,family=sm.families.Binomial())\n",
    "model_result = model.fit()"
   ]
  },
  {
   "cell_type": "code",
   "execution_count": null,
   "metadata": {},
   "outputs": [],
   "source": []
  },
  {
   "cell_type": "code",
   "execution_count": null,
   "metadata": {},
   "outputs": [],
   "source": []
  },
  {
   "cell_type": "code",
   "execution_count": 1,
   "metadata": {},
   "outputs": [],
   "source": [
    "import numpy as np"
   ]
  },
  {
   "cell_type": "code",
   "execution_count": 9,
   "metadata": {},
   "outputs": [
    {
     "data": {
      "text/plain": [
       "1.4999999999999998"
      ]
     },
     "execution_count": 9,
     "metadata": {},
     "output_type": "execute_result"
    }
   ],
   "source": [
    "np.mean([1.5,1.3,1.8,1.6,1.3])"
   ]
  },
  {
   "cell_type": "code",
   "execution_count": 10,
   "metadata": {},
   "outputs": [
    {
     "data": {
      "text/plain": [
       "1.5999999999999999"
      ]
     },
     "execution_count": 10,
     "metadata": {},
     "output_type": "execute_result"
    }
   ],
   "source": [
    "np.mean([1.6,1.7,1.9,1.2])"
   ]
  },
  {
   "cell_type": "code",
   "execution_count": 11,
   "metadata": {},
   "outputs": [
    {
     "data": {
      "text/plain": [
       "1.6142857142857143"
      ]
     },
     "execution_count": 11,
     "metadata": {},
     "output_type": "execute_result"
    }
   ],
   "source": [
    "np.mean([2.0,1.4,1.5,1.5,1.8,1.7,1.4])"
   ]
  },
  {
   "cell_type": "code",
   "execution_count": 12,
   "metadata": {},
   "outputs": [
    {
     "data": {
      "text/plain": [
       "2.875"
      ]
     },
     "execution_count": 12,
     "metadata": {},
     "output_type": "execute_result"
    }
   ],
   "source": [
    "np.mean([2.9,3.1,2.8,2.7])"
   ]
  },
  {
   "cell_type": "code",
   "execution_count": 13,
   "metadata": {},
   "outputs": [
    {
     "data": {
      "text/plain": [
       "1.8350000000000002"
      ]
     },
     "execution_count": 13,
     "metadata": {},
     "output_type": "execute_result"
    }
   ],
   "source": [
    "np.mean([1.5,1.3,1.8,1.6,1.3,1.6,1.7,1.9,1.2,2.0,1.4,1.5,1.5,1.8,1.7,1.4,2.9,3.1,2.8,2.7])"
   ]
  },
  {
   "cell_type": "code",
   "execution_count": 14,
   "metadata": {},
   "outputs": [
    {
     "data": {
      "text/plain": [
       "5.450312"
      ]
     },
     "execution_count": 14,
     "metadata": {},
     "output_type": "execute_result"
    }
   ],
   "source": [
    "5*(1.5-1.835)**2+4*(1.6-1.835)**2+7*(1.614-1.835)**2+4*(2.875-1.835)**2"
   ]
  },
  {
   "cell_type": "code",
   "execution_count": null,
   "metadata": {},
   "outputs": [],
   "source": [
    "(1.5-1.5)**2"
   ]
  }
 ],
 "metadata": {
  "kernelspec": {
   "display_name": "Python 3",
   "language": "python",
   "name": "python3"
  },
  "language_info": {
   "codemirror_mode": {
    "name": "ipython",
    "version": 3
   },
   "file_extension": ".py",
   "mimetype": "text/x-python",
   "name": "python",
   "nbconvert_exporter": "python",
   "pygments_lexer": "ipython3",
   "version": "3.7.3"
  }
 },
 "nbformat": 4,
 "nbformat_minor": 2
}
