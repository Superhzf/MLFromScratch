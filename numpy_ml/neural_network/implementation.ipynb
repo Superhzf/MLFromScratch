{
 "cells": [
  {
   "cell_type": "code",
   "execution_count": 1,
   "metadata": {},
   "outputs": [],
   "source": [
    "import numpy as np"
   ]
  },
  {
   "cell_type": "code",
   "execution_count": 2,
   "metadata": {},
   "outputs": [],
   "source": [
    "import numpy\n",
    "%matplotlib inline\n",
    "import matplotlib.pyplot as plt\n",
    "# import seaborn as sns\n",
    "import pandas as pd\n",
    "import numpy as np\n",
    "import sys\n",
    "sys.path.insert(0, '')\n",
    "from train import fit\n",
    "from sklearn.datasets import load_breast_cancer\n",
    "\n",
    "\n",
    "class Neural_network:\n",
    "    def __init__(self, nn_architecture, seed):\n",
    "        self.nn_architecture = nn_architecture\n",
    "        self.params_values = {}\n",
    "        np.random.seed(seed)\n",
    "        for layer_idx_prev, layer in enumerate(nn_architecture):\n",
    "            layer_idx_curr = layer_idx_prev+1\n",
    "            output_dim = layer['output_dim']\n",
    "            input_dim = layer['input_dim']\n",
    "            self.params_values[f'W_{layer_idx_curr}'] = np.random.randn(output_dim, input_dim)*0.1\n",
    "            self.params_values[f'b_{layer_idx_curr}'] = np.zeros([output_dim,1])\n",
    "            \n",
    "    \n",
    "    def __sigmoid(self, Z):\n",
    "        A = 1/(1+np.exp(-Z))\n",
    "        return A\n",
    "    \n",
    "    \n",
    "    def __ReLU(self, Z):\n",
    "        A = np.maximum(0,Z)\n",
    "        return A\n",
    "    \n",
    "    \n",
    "    def __sigmoid_backward(self, dA_curr, Z_curr):\n",
    "        A_curr = self.__sigmoid(Z_curr)\n",
    "        dZ_curr = dA_curr * A_curr * (1-A_curr)\n",
    "        return dZ_curr\n",
    "    \n",
    "    \n",
    "    def __ReLU_backward(self, dA_curr, Z_curr):\n",
    "        dZ_curr = np.array(dA_curr)\n",
    "        dZ_curr[Z_curr<0] = 0\n",
    "        return dZ_curr\n",
    "    \n",
    "    \n",
    "    def CrossEntropyLoss(self, y_hat, y):\n",
    "        y_hat = np.array(y_hat)\n",
    "        y = np.array(y)\n",
    "        assert len(y_hat) == len(y)\n",
    "        assert np.all(np.isin(np.unique(y),[0,1]))\n",
    "        m = len(y)\n",
    "        loss = 0\n",
    "        mask_zeros = y==0\n",
    "        loss += np.sum(np.log(1-y_hat[mask_zeros]+1e-15))\n",
    "        mask_ones = y==1\n",
    "        loss += np.sum(np.log(y_hat[mask_ones]+1e-15))\n",
    "        return -1*loss/m\n",
    "    \n",
    "    \n",
    "    def Accuracy(self, y_hat, y, threshold = 0.5):\n",
    "        y_hat = np.array(y_hat)\n",
    "        y = np.array(y)\n",
    "        assert len(y_hat) == len(y)\n",
    "        assert np.all(np.isin(np.unique(y),[0,1]))\n",
    "        class_hat = y_hat >= threshold\n",
    "        return np.mean(class_hat == y)\n",
    "    \n",
    "    \n",
    "    def __single_layer_forward_propogation(self, W_curr, b_curr, A_prev, activation = 'relu'):\n",
    "        Z_curr = W_curr@A_prev + b_curr \n",
    "        if activation == 'relu':\n",
    "            activation_func = self.__ReLU\n",
    "        elif activation == 'sigmoid':\n",
    "            activation_func = self.__sigmoid\n",
    "        else:\n",
    "            return Exception('Non-supported activation!')\n",
    "        \n",
    "        A_curr = activation_func(Z_curr)\n",
    "        return A_curr, Z_curr\n",
    "    \n",
    "    \n",
    "    def __fully_forward_propagation(self, X, params_values, nn_architecture):\n",
    "        A_curr = X\n",
    "        memory = {}\n",
    "        \n",
    "        for layer_idx_prev, layer in enumerate(nn_architecture):\n",
    "            layer_idx_curr = layer_idx_prev+1\n",
    "            W_curr = params_values[f'W_{layer_idx_curr}']\n",
    "            b_curr = params_values[f'b_{layer_idx_curr}']\n",
    "            A_prev = A_curr\n",
    "            activation = layer['activation']\n",
    "            A_curr, Z_curr = self.__single_layer_forward_propogation(W_curr, b_curr, A_prev, activation)\n",
    "            memory[f'A_{layer_idx_prev}'] = A_prev\n",
    "            memory[f'Z_{layer_idx_curr}'] = Z_curr\n",
    "        return A_curr, memory\n",
    "    \n",
    "    def __single_layer_backward_propogation(self, dA_curr, A_prev, W_curr, Z_curr, activation='relu'):\n",
    "        m = A_prev.shape[1]\n",
    "        \n",
    "        if activation == 'relu':\n",
    "            activation_func = self.__ReLU_backward\n",
    "        elif activation == 'sigmoid':\n",
    "            activation_func = self.__sigmoid_backward\n",
    "        else:\n",
    "            return Exception('Non-supported activation function!')\n",
    "        \n",
    "        dZ_curr = activation_func(dA_curr, Z_curr)\n",
    "        dW_curr = np.dot(dZ_curr, A_prev.T)/m\n",
    "        db_curr = np.sum(dZ_curr, axis=1, keepdims = 1)/m\n",
    "        dA_prev = np.dot(W_curr.T, dZ_curr)\n",
    "        return dW_curr, db_curr, dA_prev\n",
    "    \n",
    "    \n",
    "    def __fully_backward_propogation(self, y, y_hat, memory, nn_architecture, params_values):\n",
    "        grads_values = {}\n",
    "        \n",
    "        dA_prev = -y/(y_hat+1e-15)+(1-y)/(1-y_hat+1e-15)\n",
    "        \n",
    "        for layer_idx_prev, layer in reversed(list(enumerate(nn_architecture))):\n",
    "            layer_idx_curr = layer_idx_prev+1\n",
    "            dA_curr = dA_prev\n",
    "            A_prev = memory[f'A_{layer_idx_prev}']\n",
    "            W_curr = params_values[f'W_{layer_idx_curr}']\n",
    "            b_curr = params_values[f'b_{layer_idx_curr}']\n",
    "            Z_curr = memory[f'Z_{layer_idx_curr}']\n",
    "            activation = layer['activation']\n",
    "            dW_curr, db_curr, dA_prev = self.__single_layer_backward_propogation(dA_curr, A_prev, \n",
    "                                                                                 W_curr, Z_curr,activation)\n",
    "            grads_values[f'dW_{layer_idx_curr}'] = dW_curr\n",
    "            grads_values[f'db_{layer_idx_curr}'] = db_curr\n",
    "        return grads_values\n",
    "    \n",
    "    \n",
    "    def __updates(self, nn_architecture, params_values, grads_values, learning_rate):\n",
    "        for layer_idx_prev, layer in enumerate(nn_architecture):\n",
    "            layer_idx_curr = layer_idx_prev+1\n",
    "            params_values[f'W_{layer_idx_curr}'] -= learning_rate * grads_values[f'dW_{layer_idx_curr}']\n",
    "            params_values[f'b_{layer_idx_curr}'] -= learning_rate * grads_values[f'db_{layer_idx_curr}']\n",
    "        return params_values\n",
    "    \n",
    "    \n",
    "    def fit(self, X, Y, epochs, learning_rate, standardize = False):\n",
    "        self.loss_history = []\n",
    "        self.accuracy_history = []\n",
    "        \n",
    "        if Y.shape[0]!=1:\n",
    "            Y = Y[None]\n",
    "            \n",
    "        if standardize:\n",
    "            sample_mean = np.mean(X,axis=1)\n",
    "            sample_mean = sample_mean[:,None]\n",
    "            sample_std = np.std(X,axis=1)\n",
    "            sample_std = sample_std[:,None]\n",
    "            X = (X-sample_mean)/sample_std\n",
    "        \n",
    "        for _ in range(epochs):\n",
    "            y_hat, cache = self.__fully_forward_propagation(X, self.params_values, self.nn_architecture)\n",
    "            loss = self.CrossEntropyLoss(y_hat, Y)\n",
    "            self.loss_history.append(loss)\n",
    "            accuracy = self.Accuracy(y_hat, Y)\n",
    "            self.accuracy_history.append(accuracy)\n",
    "            \n",
    "            grads_values = self.__fully_backward_propogation(Y,y_hat, cache, \n",
    "                                                                   self.nn_architecture,self.params_values)\n",
    "            self.params_values = self.__updates(self.nn_architecture,self.params_values, \n",
    "                                                grads_values, learning_rate)\n",
    "            \n",
    "    \n",
    "    def predict(self, X):\n",
    "        return self.__fully_forward_propagation(X, self.params_values, self.nn_architecture)"
   ]
  },
  {
   "cell_type": "code",
   "execution_count": 3,
   "metadata": {},
   "outputs": [],
   "source": [
    "data = load_breast_cancer()\n",
    "x = data['data']\n",
    "y = data['target']\n",
    "x = x.reshape([30,569])\n",
    "\n",
    "nn_architecture = [\n",
    "    {\"input_dim\": x.shape[0], \"output_dim\": 10, \"activation\": \"relu\"},\n",
    "    {\"input_dim\": 10, \"output_dim\": 1, \"activation\": \"sigmoid\"},\n",
    "]\n",
    "epochs = 20000"
   ]
  },
  {
   "cell_type": "code",
   "execution_count": 7,
   "metadata": {},
   "outputs": [
    {
     "data": {
      "text/plain": [
       "(30, 569)"
      ]
     },
     "execution_count": 7,
     "metadata": {},
     "output_type": "execute_result"
    }
   ],
   "source": [
    "x.shape"
   ]
  },
  {
   "cell_type": "code",
   "execution_count": 8,
   "metadata": {},
   "outputs": [],
   "source": [
    "# nn_architecture = [{'input_dim':x.shape[0],'output_dim':10, \"activation\":'relu'},\n",
    "#                    {'input_dim':10, 'output_dim':'1', 'activation':'sigmoid'}]"
   ]
  },
  {
   "cell_type": "code",
   "execution_count": 4,
   "metadata": {},
   "outputs": [],
   "source": [
    "nn = Neural_network(nn_architecture,2019)"
   ]
  },
  {
   "cell_type": "code",
   "execution_count": 5,
   "metadata": {
    "scrolled": true
   },
   "outputs": [],
   "source": [
    "nn.fit(x,y,epochs=epochs,learning_rate=0.01)"
   ]
  },
  {
   "cell_type": "code",
   "execution_count": 6,
   "metadata": {},
   "outputs": [
    {
     "data": {
      "text/plain": [
       "[<matplotlib.lines.Line2D at 0x7fc960876780>]"
      ]
     },
     "execution_count": 6,
     "metadata": {},
     "output_type": "execute_result"
    },
    {
     "data": {
      "image/png": "[encoded data removed]",
      "text/plain": [
       "<Figure size 432x288 with 1 Axes>"
      ]
     },
     "metadata": {
      "needs_background": "light"
     },
     "output_type": "display_data"
    }
   ],
   "source": [
    "plt.plot(list(range(epochs)),nn.accuracy_history)"
   ]
  },
  {
   "cell_type": "code",
   "execution_count": null,
   "metadata": {},
   "outputs": [],
   "source": []
  }
 ],
 "metadata": {
  "kernelspec": {
   "display_name": "Python 3",
   "language": "python",
   "name": "python3"
  },
  "language_info": {
   "codemirror_mode": {
    "name": "ipython",
    "version": 3
   },
   "file_extension": ".py",
   "mimetype": "text/x-python",
   "name": "python",
   "nbconvert_exporter": "python",
   "pygments_lexer": "ipython3",
   "version": "3.7.3"
  }
 },
 "nbformat": 4,
 "nbformat_minor": 2
}
