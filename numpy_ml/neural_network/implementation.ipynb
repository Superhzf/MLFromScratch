{
 "cells": [
  {
   "cell_type": "code",
   "execution_count": 1,
   "metadata": {},
   "outputs": [],
   "source": [
    "import numpy as np"
   ]
  },
  {
   "cell_type": "code",
   "execution_count": null,
   "metadata": {},
   "outputs": [],
   "source": [
    "import numpy\n",
    "\n",
    "nn_architecture = [\n",
    "    {\"input_dim\": x.shape[0], \"output_dim\": 10, \"activation\": \"relu\"},\n",
    "    {\"input_dim\": 10, \"output_dim\": 1, \"activation\": \"sigmoid\"},\n",
    "]\n",
    "\n",
    "\n",
    "def init_layers(nn_architecture, seed = 2019):\n",
    "    params_values = {}\n",
    "    np.random.seed(seed)\n",
    "    for layer_idx_prev, layer in enumerate(nn_architecture):\n",
    "        layer_idx_curr = layer_idx_prev + 1\n",
    "        output_dim = layer['output_dim']\n",
    "        input_dim = layer['input_dim']\n",
    "        params_values[f'W_{layer_idx_curr}'] = np.random.randn(output_dim,input_dim)*0.1\n",
    "        params_values[f'b_{layer_idx_curr}'] = np.zeros([output_dim,1])\n",
    "    return params_values\n",
    "\n",
    "\n",
    "def sigmoid(Z):\n",
    "    A = 1/(1+np.exp(-Z))\n",
    "    return A\n",
    "\n",
    "def ReLU(Z):\n",
    "    A = np.maximum(0, Z)\n",
    "    return A\n",
    "\n",
    "\n",
    "def sigmoid_backward(dA, Z):\n",
    "    sig = sigmoid(Z)\n",
    "    dZ = dA * sig (1-sig)\n",
    "    return dZ\n",
    "\n",
    "def ReLU_backward(dA, Z):\n",
    "    dZ = np.array(dA)\n",
    "    dZ[dZ<0] = 0\n",
    "    return dZ\n",
    "\n",
    "def CrossEntropyLoss(y_hat, y):\n",
    "    y_hat = np.array(y_hat)\n",
    "    y = np.array(y)\n",
    "    y = y[None]\n",
    "    assert len(y) == len(y_hat)\n",
    "    assert np.all(np.isin(np.unique(y),[0,1]))\n",
    "    m = len(y)\n",
    "    loss = 0\n",
    "    mask_zeros = y==0\n",
    "    loss += np.sum(np.log(1-y_hat[mask_zeros]+1e-15))\n",
    "    mask_ones = y==1\n",
    "    loss += np.sum(np.log(y_hat[mask_ones]+1e-15))\n",
    "    return -1*loss/m\n",
    "\n",
    "\n",
    "def Accuracy(y_hat, y, threshold):\n",
    "    y_hat = np.array(y_hat)\n",
    "    y = np.array(y)\n",
    "    y = y[None]\n",
    "    assert len(y) == len(y_hat)\n",
    "    assert np.all(np.isin(np.unique(y),[0,1]))\n",
    "    class_hat = y_hat >= threshold\n",
    "    return np.mean(class_hat == y)\n",
    "\n",
    "\n",
    "def single_layer_forward_propogation(W_curr, A_prev, b_curr, activation='relu'):\n",
    "    Z_curr = W_curr @ A_prev + b_curr\n",
    "    \n",
    "    if activation == 'relu':\n",
    "        activation_func = ReLU\n",
    "    elif activation == 'sigmoid':\n",
    "        activation_func = sigmoid\n",
    "    else:\n",
    "        return Exception('Non-supported activation function')\n",
    "    \n",
    "    A_curr = activation_func(Z_curr)\n",
    "    return A_curr, Z_curr\n",
    "\n",
    "\n",
    "def fully_forward_propagation(X, params_values, nn_architecture):\n",
    "    memory = {}\n",
    "    \n",
    "    A_curr = X\n",
    "    for layer_idx_prev, layer in enumerate(nn_architecture):\n",
    "        layer_idx_curr = layer_idx_prev+1\n",
    "        A_prev = A_curr\n",
    "        activation_func = layer['activation']\n",
    "        W_curr = params_values[f'W_{layer_idx_curr}']\n",
    "        b_curr = params_values[f'b_{layer_idx_curr}']\n",
    "        A_curr, Z_curr = single_layer_forward_propogation(W_curr, A_prev, b_curr, activation_func)\n",
    "        \n",
    "        memory[f'A_{layer_idx_prev}'] = A_prev\n",
    "        memory[f'Z_{layer_idx_curr}'] = Z_curr\n",
    "    \n",
    "    return A_curr, memory\n",
    "\n",
    "\n",
    "def single_layer_backward_propagation(dA_curr, W_curr, A_prev, Z_curr,activation='relu'):\n",
    "    m = A_prev.shape[1]\n",
    "    \n",
    "    if activation == 'relu':\n",
    "        activation_func = ReLU_backward\n",
    "    else activation == 'sigmoid':\n",
    "        activation_func = sigmoid_backward\n",
    "    else:\n",
    "        return Exception(\"Non-supported activation func\")\n",
    "    \n",
    "    dZ_curr = activation_func(dA_curr,Z_curr)\n",
    "    dW_curr = np.dot(dZ_curr, A_prev.T)/m\n",
    "    db_curr = np.sum(dZ_curr,axis=1,keepdims=1)/m\n",
    "    dA_prev = np.dot(W_curr.T, dZ_curr)\n",
    "    \n",
    "    return dW_curr, db_curr, dA_prev\n",
    "\n",
    "\n",
    "def fully_backward_propagation(y, y_hat, memory,params_values, nn_architecture):\n",
    "    grads_values = {}\n",
    "    y = np.array(y)\n",
    "    y_hat = np.array(y_hat)\n",
    "    if \n",
    "    dA_prev = -y/(y_hat+1e-15)+(1-y)/(1-y_hat+1e-15)\n",
    "    \n",
    "    for layer_idx_prev, layer in reversed(list(enumerate(nn_architecture))):\n",
    "        layer_idx_curr = layer_idx_prev+1\n",
    "        dA_curr = dA_prev\n",
    "        activation = layer['activation']\n",
    "        W_curr = params_values[f'W_{layer_idx_curr}']\n",
    "        A_prev = memory[f'A_{layer_idx_prev}']\n",
    "        Z_curr = memory[f'Z_{layer_idx_curr}']\n",
    "        dW_curr, db_curr, dA_prev = single_layer_backward_propagation(dA_curr, W_curr, A_prev, Z_curr, activation)\n",
    "        grads_values[f'dW_{layer_idx_curr}'] = dW_curr\n",
    "        grads_values[f'db_{layer_idx_curr}'] = db_curr\n",
    "    return grads_values\n",
    "\n",
    "def updates(params_values,grads_values,learning_rate,nn_architecture):\n",
    "    for layer_idx_prev, layer in enumerate(nn_architecture):\n",
    "        layer_idx_curr = layer_idx_prev+1\n",
    "        params_values[f'W_{layer_idx_curr}'] -= learning_rate * grads_values[f'dW_{layer_idx_curr}']\n",
    "        params_values[f'b_{layer_idx_curr}'] -= learning_rate * grads_values[f'db_{layer_idx_curr}']\n",
    "    return params_values\n",
    "\n",
    "\n",
    "def fit(X, Y, epochs, learning_rate,nn_architecture):\n",
    "    params_values = nn_architecture(nn_architecture,seed = 2019)\n",
    "    cost_history = []\n",
    "    accuracy_histiory = []\n",
    "    \n",
    "    for _ in range(epochs):\n",
    "        y_hat, cache = fully_forward_propagation(X, params_values, nn_architecture)\n",
    "        cost = CrossEntropyLoss(y_hat, Y)\n",
    "        cost_history.append(cost)\n",
    "        accuracy = Accuracy(y_hat, y)\n",
    "        accuracy_histiory.append(accuracy)\n",
    "        \n",
    "        grads_values = fully_backward_propagation(Y, y_hat, cache, nn_architecture)\n",
    "        params_values = updates(params_values,grads_values,learning_rate,nn_architecture)\n",
    "    return params_values\n",
    "\n"
   ]
  },
  {
   "cell_type": "code",
   "execution_count": 14,
   "metadata": {},
   "outputs": [
    {
     "data": {
      "text/plain": [
       "37.6467"
      ]
     },
     "execution_count": 14,
     "metadata": {},
     "output_type": "execute_result"
    }
   ],
   "source": [
    "40-2.33*1.01"
   ]
  },
  {
   "cell_type": "code",
   "execution_count": 15,
   "metadata": {},
   "outputs": [
    {
     "data": {
      "text/plain": [
       "42.3533"
      ]
     },
     "execution_count": 15,
     "metadata": {},
     "output_type": "execute_result"
    }
   ],
   "source": [
    "40+2.33*1.01"
   ]
  },
  {
   "cell_type": "code",
   "execution_count": 16,
   "metadata": {},
   "outputs": [
    {
     "data": {
      "text/plain": [
       "0.02392592735924775"
      ]
     },
     "execution_count": 16,
     "metadata": {},
     "output_type": "execute_result"
    }
   ],
   "source": [
    "0.107/np.sqrt(20)"
   ]
  },
  {
   "cell_type": "code",
   "execution_count": 17,
   "metadata": {},
   "outputs": [
    {
     "data": {
      "text/plain": [
       "0.08296"
      ]
     },
     "execution_count": 17,
     "metadata": {},
     "output_type": "execute_result"
    }
   ],
   "source": [
    "0.13-1.96*0.024"
   ]
  },
  {
   "cell_type": "code",
   "execution_count": 18,
   "metadata": {},
   "outputs": [
    {
     "data": {
      "text/plain": [
       "0.17704"
      ]
     },
     "execution_count": 18,
     "metadata": {},
     "output_type": "execute_result"
    }
   ],
   "source": [
    "0.13+1.96*0.024"
   ]
  },
  {
   "cell_type": "code",
   "execution_count": 21,
   "metadata": {},
   "outputs": [
    {
     "data": {
      "text/plain": [
       "0.14310835055998652"
      ]
     },
     "execution_count": 21,
     "metadata": {},
     "output_type": "execute_result"
    }
   ],
   "source": [
    "0.64/np.sqrt(20)"
   ]
  },
  {
   "cell_type": "code",
   "execution_count": 22,
   "metadata": {},
   "outputs": [
    {
     "data": {
      "text/plain": [
       "0.16323296235748463"
      ]
     },
     "execution_count": 22,
     "metadata": {},
     "output_type": "execute_result"
    }
   ],
   "source": [
    "0.73/np.sqrt(20)"
   ]
  },
  {
   "cell_type": "code",
   "execution_count": 23,
   "metadata": {},
   "outputs": [
    {
     "data": {
      "text/plain": [
       "10.285714285714281"
      ]
     },
     "execution_count": 23,
     "metadata": {},
     "output_type": "execute_result"
    }
   ],
   "source": [
    "(8.94-7.5)/0.14"
   ]
  },
  {
   "cell_type": "code",
   "execution_count": 24,
   "metadata": {},
   "outputs": [
    {
     "data": {
      "text/plain": [
       "0.9375000000000022"
      ]
     },
     "execution_count": 24,
     "metadata": {},
     "output_type": "execute_result"
    }
   ],
   "source": [
    "(8.35-8.2)/0.16"
   ]
  },
  {
   "cell_type": "code",
   "execution_count": 25,
   "metadata": {},
   "outputs": [
    {
     "data": {
      "text/plain": [
       "18.28571428571429"
      ]
     },
     "execution_count": 25,
     "metadata": {},
     "output_type": "execute_result"
    }
   ],
   "source": [
    "(10.06-7.5)/0.14"
   ]
  },
  {
   "cell_type": "code",
   "execution_count": null,
   "metadata": {},
   "outputs": [],
   "source": []
  }
 ],
 "metadata": {
  "kernelspec": {
   "display_name": "Python 3",
   "language": "python",
   "name": "python3"
  },
  "language_info": {
   "codemirror_mode": {
    "name": "ipython",
    "version": 3
   },
   "file_extension": ".py",
   "mimetype": "text/x-python",
   "name": "python",
   "nbconvert_exporter": "python",
   "pygments_lexer": "ipython3",
   "version": "3.7.3"
  }
 },
 "nbformat": 4,
 "nbformat_minor": 2
}
